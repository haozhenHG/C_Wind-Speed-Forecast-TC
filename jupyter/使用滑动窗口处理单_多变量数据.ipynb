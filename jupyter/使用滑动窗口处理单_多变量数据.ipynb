{
 "cells": [
  {
   "cell_type": "markdown",
   "id": "a6c8a885-8ddf-48ee-8de0-81a3e8ca54d2",
   "metadata": {},
   "source": [
    "- 参考网址\n",
    "\n",
    "  \n",
    "[时间序列预测26：使用滑动窗口处理单变量/多变量数据](https://blog.csdn.net/weixin_39653948/article/details/105928752?utm_medium=distribute.pc_relevant.none-task-blog-2~default~baidujs_baidulandingword~default-0-105928752-blog-134675309.235^v43^pc_blog_bottom_relevance_base5&spm=1001.2101.3001.4242.1&utm_relevant_index=3)"
   ]
  },
  {
   "cell_type": "code",
   "execution_count": null,
   "id": "ad3ad45d-93ef-4d0a-bc34-e1ef14c0bebf",
   "metadata": {},
   "outputs": [],
   "source": []
  },
  {
   "cell_type": "code",
   "execution_count": null,
   "id": "53325c47-528a-484c-9f8a-baed18aa9ba1",
   "metadata": {},
   "outputs": [],
   "source": []
  },
  {
   "cell_type": "code",
   "execution_count": null,
   "id": "7c626880-b90c-449f-85d2-9c507c22e83c",
   "metadata": {},
   "outputs": [],
   "source": []
  },
  {
   "cell_type": "code",
   "execution_count": null,
   "id": "6ef093cf-03f8-444f-80e5-fa4aa2de44b8",
   "metadata": {},
   "outputs": [],
   "source": []
  },
  {
   "cell_type": "code",
   "execution_count": null,
   "id": "7ef55da4-4521-43e6-99d3-364356d11af7",
   "metadata": {},
   "outputs": [],
   "source": []
  },
  {
   "cell_type": "code",
   "execution_count": null,
   "id": "f5b2614d-2aed-42a4-86fb-c90b1a607241",
   "metadata": {},
   "outputs": [],
   "source": []
  }
 ],
 "metadata": {
  "kernelspec": {
   "display_name": "Tensorflow",
   "language": "python",
   "name": "tensorflow"
  },
  "language_info": {
   "codemirror_mode": {
    "name": "ipython",
    "version": 3
   },
   "file_extension": ".py",
   "mimetype": "text/x-python",
   "name": "python",
   "nbconvert_exporter": "python",
   "pygments_lexer": "ipython3",
   "version": "3.8.18"
  }
 },
 "nbformat": 4,
 "nbformat_minor": 5
}
